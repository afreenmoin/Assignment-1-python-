{
 "cells": [
  {
   "cell_type": "code",
   "execution_count": 13,
   "metadata": {},
   "outputs": [
    {
     "name": "stdout",
     "output_type": "stream",
     "text": [
      "Twinkle. twinkle, little star, \n",
      "\tHow I wonder what you are! \n",
      "\t\tUp above the world so high, \n",
      "\t\tLike a diamond in the sky. \n",
      "Twinkle. twinkle, little star, \n",
      "\tHow I wonder what you are!\n"
     ]
    }
   ],
   "source": [
    "line1= (\"Twinkle. twinkle, little star,\")\n",
    "line2= (\"\\n\\tHow I wonder what you are!\")\n",
    "line3= (\"\\n\\t\\tUp above the world so high,\")\n",
    "line4= (\"\\n\\t\\tLike a diamond in the sky.\")\n",
    "line5= (\"\\nTwinkle. twinkle, little star,\")\n",
    "line6= (\"\\n\\tHow I wonder what you are!\")\n",
    "print (line1, line2, line3, line4, line5, line6)"
   ]
  },
  {
   "cell_type": "code",
   "execution_count": 12,
   "metadata": {},
   "outputs": [
    {
     "name": "stdout",
     "output_type": "stream",
     "text": [
      "Python version\n",
      "3.7.4 (default, Aug  9 2019, 18:34:13) [MSC v.1915 64 bit (AMD64)]\n"
     ]
    }
   ],
   "source": [
    "import sys\n",
    "print(\"Python version\")\n",
    "print(sys.version)"
   ]
  },
  {
   "cell_type": "code",
   "execution_count": 31,
   "metadata": {},
   "outputs": [
    {
     "name": "stdout",
     "output_type": "stream",
     "text": [
      "Current date and time\n",
      "03-11-19 16:31:39\n"
     ]
    }
   ],
   "source": [
    "import datetime\n",
    "now=datetime.datetime.now()\n",
    "print (\"Current date and time\")\n",
    "print (now.strftime(\"%d-%m-%y %H:%M:%S\"))"
   ]
  },
  {
   "cell_type": "code",
   "execution_count": 14,
   "metadata": {},
   "outputs": [
    {
     "name": "stdout",
     "output_type": "stream",
     "text": [
      "Value of the radius of the circle : 2\n",
      "The area of the circle with radius 2 = 12.566370614359172\n"
     ]
    }
   ],
   "source": [
    "from math import pi\n",
    "r = int(input (\"Value of the radius of the circle : \"))\n",
    "print (\"The area of the circle with radius \" + str(r) + \" = \" + str(pi * r**2))"
   ]
  },
  {
   "cell_type": "code",
   "execution_count": 2,
   "metadata": {},
   "outputs": [
    {
     "name": "stdout",
     "output_type": "stream",
     "text": [
      "Enter your First Name :Aneeq\n",
      "Enter your Last Name :Imran\n",
      "Imran  Aneeq\n"
     ]
    }
   ],
   "source": [
    "First_name= input(\"Enter your First Name :\")\n",
    "Last_name= input(\"Enter your Last Name :\")\n",
    "print (Last_name,\"\",First_name)"
   ]
  },
  {
   "cell_type": "code",
   "execution_count": 10,
   "metadata": {},
   "outputs": [
    {
     "name": "stdout",
     "output_type": "stream",
     "text": [
      "Input first number :13\n",
      "Input second number :34\n",
      "47\n"
     ]
    }
   ],
   "source": [
    "a = int(input(\"Input first number :\"))\n",
    "b = int(input( \"Input second number :\"))\n",
    "sum = a + b\n",
    "print (sum)"
   ]
  }
 ],
 "metadata": {
  "kernelspec": {
   "display_name": "Python 3",
   "language": "python",
   "name": "python3"
  },
  "language_info": {
   "codemirror_mode": {
    "name": "ipython",
    "version": 3
   },
   "file_extension": ".py",
   "mimetype": "text/x-python",
   "name": "python",
   "nbconvert_exporter": "python",
   "pygments_lexer": "ipython3",
   "version": "3.7.4"
  }
 },
 "nbformat": 4,
 "nbformat_minor": 2
}
